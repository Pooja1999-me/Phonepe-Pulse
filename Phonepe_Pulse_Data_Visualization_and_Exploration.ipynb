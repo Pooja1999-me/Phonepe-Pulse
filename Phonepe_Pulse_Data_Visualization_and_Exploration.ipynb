{
  "nbformat": 4,
  "nbformat_minor": 0,
  "metadata": {
    "colab": {
      "provenance": []
    },
    "kernelspec": {
      "name": "python3",
      "display_name": "Python 3"
    },
    "language_info": {
      "name": "python"
    }
  },
  "cells": [
    {
      "cell_type": "markdown",
      "source": [
        "#Phonepe Pulse Data Visualization and Exploration: A UserFriendly Tool Using Streamlit and Plotpy"
      ],
      "metadata": {
        "id": "wCN6qM9rI1Kl"
      }
    },
    {
      "cell_type": "code",
      "source": [
        "#Installing libraries\n",
        "!pip install streamlit\n",
        "!pip install mysql.connector\n",
        "!pip install plotly\n",
        "!pip install os\n",
        "!pip install gitpython"
      ],
      "metadata": {
        "colab": {
          "base_uri": "https://localhost:8080/"
        },
        "id": "RIAn2Azki9k_",
        "outputId": "737413a8-960b-4ebc-8f35-09d21f8517a3"
      },
      "execution_count": null,
      "outputs": [
        {
          "output_type": "stream",
          "name": "stdout",
          "text": [
            "Collecting streamlit\n",
            "  Downloading streamlit-1.27.0-py2.py3-none-any.whl (7.6 MB)\n",
            "\u001b[2K     \u001b[90m━━━━━━━━━━━━━━━━━━━━━━━━━━━━━━━━━━━━━━━━\u001b[0m \u001b[32m7.6/7.6 MB\u001b[0m \u001b[31m35.2 MB/s\u001b[0m eta \u001b[36m0:00:00\u001b[0m\n",
            "\u001b[?25hRequirement already satisfied: altair<6,>=4.0 in /usr/local/lib/python3.10/dist-packages (from streamlit) (4.2.2)\n",
            "Requirement already satisfied: blinker<2,>=1.0.0 in /usr/lib/python3/dist-packages (from streamlit) (1.4)\n",
            "Requirement already satisfied: cachetools<6,>=4.0 in /usr/local/lib/python3.10/dist-packages (from streamlit) (5.3.1)\n",
            "Requirement already satisfied: click<9,>=7.0 in /usr/local/lib/python3.10/dist-packages (from streamlit) (8.1.7)\n",
            "Requirement already satisfied: importlib-metadata<7,>=1.4 in /usr/local/lib/python3.10/dist-packages (from streamlit) (6.8.0)\n",
            "Requirement already satisfied: numpy<2,>=1.19.3 in /usr/local/lib/python3.10/dist-packages (from streamlit) (1.23.5)\n",
            "Requirement already satisfied: packaging<24,>=16.8 in /usr/local/lib/python3.10/dist-packages (from streamlit) (23.1)\n",
            "Requirement already satisfied: pandas<3,>=1.3.0 in /usr/local/lib/python3.10/dist-packages (from streamlit) (1.5.3)\n",
            "Requirement already satisfied: pillow<10,>=7.1.0 in /usr/local/lib/python3.10/dist-packages (from streamlit) (9.4.0)\n",
            "Requirement already satisfied: protobuf<5,>=3.20 in /usr/local/lib/python3.10/dist-packages (from streamlit) (3.20.3)\n",
            "Requirement already satisfied: pyarrow>=6.0 in /usr/local/lib/python3.10/dist-packages (from streamlit) (9.0.0)\n",
            "Requirement already satisfied: python-dateutil<3,>=2.7.3 in /usr/local/lib/python3.10/dist-packages (from streamlit) (2.8.2)\n",
            "Requirement already satisfied: requests<3,>=2.18 in /usr/local/lib/python3.10/dist-packages (from streamlit) (2.31.0)\n",
            "Requirement already satisfied: rich<14,>=10.14.0 in /usr/local/lib/python3.10/dist-packages (from streamlit) (13.5.2)\n",
            "Requirement already satisfied: tenacity<9,>=8.1.0 in /usr/local/lib/python3.10/dist-packages (from streamlit) (8.2.3)\n",
            "Requirement already satisfied: toml<2,>=0.10.1 in /usr/local/lib/python3.10/dist-packages (from streamlit) (0.10.2)\n",
            "Requirement already satisfied: typing-extensions<5,>=4.1.0 in /usr/local/lib/python3.10/dist-packages (from streamlit) (4.5.0)\n",
            "Requirement already satisfied: tzlocal<6,>=1.1 in /usr/local/lib/python3.10/dist-packages (from streamlit) (5.0.1)\n",
            "Collecting validators<1,>=0.2 (from streamlit)\n",
            "  Downloading validators-0.22.0-py3-none-any.whl (26 kB)\n",
            "Collecting gitpython!=3.1.19,<4,>=3.0.7 (from streamlit)\n",
            "  Downloading GitPython-3.1.37-py3-none-any.whl (190 kB)\n",
            "\u001b[2K     \u001b[90m━━━━━━━━━━━━━━━━━━━━━━━━━━━━━━━━━━━━━━\u001b[0m \u001b[32m190.0/190.0 kB\u001b[0m \u001b[31m21.2 MB/s\u001b[0m eta \u001b[36m0:00:00\u001b[0m\n",
            "\u001b[?25hCollecting pydeck<1,>=0.8.0b4 (from streamlit)\n",
            "  Downloading pydeck-0.8.1b0-py2.py3-none-any.whl (4.8 MB)\n",
            "\u001b[2K     \u001b[90m━━━━━━━━━━━━━━━━━━━━━━━━━━━━━━━━━━━━━━━━\u001b[0m \u001b[32m4.8/4.8 MB\u001b[0m \u001b[31m67.8 MB/s\u001b[0m eta \u001b[36m0:00:00\u001b[0m\n",
            "\u001b[?25hRequirement already satisfied: tornado<7,>=6.0.3 in /usr/local/lib/python3.10/dist-packages (from streamlit) (6.3.2)\n",
            "Collecting watchdog>=2.1.5 (from streamlit)\n",
            "  Downloading watchdog-3.0.0-py3-none-manylinux2014_x86_64.whl (82 kB)\n",
            "\u001b[2K     \u001b[90m━━━━━━━━━━━━━━━━━━━━━━━━━━━━━━━━━━━━━━━━\u001b[0m \u001b[32m82.1/82.1 kB\u001b[0m \u001b[31m11.0 MB/s\u001b[0m eta \u001b[36m0:00:00\u001b[0m\n",
            "\u001b[?25hRequirement already satisfied: entrypoints in /usr/local/lib/python3.10/dist-packages (from altair<6,>=4.0->streamlit) (0.4)\n",
            "Requirement already satisfied: jinja2 in /usr/local/lib/python3.10/dist-packages (from altair<6,>=4.0->streamlit) (3.1.2)\n",
            "Requirement already satisfied: jsonschema>=3.0 in /usr/local/lib/python3.10/dist-packages (from altair<6,>=4.0->streamlit) (4.19.0)\n",
            "Requirement already satisfied: toolz in /usr/local/lib/python3.10/dist-packages (from altair<6,>=4.0->streamlit) (0.12.0)\n",
            "Collecting gitdb<5,>=4.0.1 (from gitpython!=3.1.19,<4,>=3.0.7->streamlit)\n",
            "  Downloading gitdb-4.0.10-py3-none-any.whl (62 kB)\n",
            "\u001b[2K     \u001b[90m━━━━━━━━━━━━━━━━━━━━━━━━━━━━━━━━━━━━━━━━\u001b[0m \u001b[32m62.7/62.7 kB\u001b[0m \u001b[31m8.0 MB/s\u001b[0m eta \u001b[36m0:00:00\u001b[0m\n",
            "\u001b[?25hRequirement already satisfied: zipp>=0.5 in /usr/local/lib/python3.10/dist-packages (from importlib-metadata<7,>=1.4->streamlit) (3.16.2)\n",
            "Requirement already satisfied: pytz>=2020.1 in /usr/local/lib/python3.10/dist-packages (from pandas<3,>=1.3.0->streamlit) (2023.3.post1)\n",
            "Requirement already satisfied: six>=1.5 in /usr/local/lib/python3.10/dist-packages (from python-dateutil<3,>=2.7.3->streamlit) (1.16.0)\n",
            "Requirement already satisfied: charset-normalizer<4,>=2 in /usr/local/lib/python3.10/dist-packages (from requests<3,>=2.18->streamlit) (3.2.0)\n",
            "Requirement already satisfied: idna<4,>=2.5 in /usr/local/lib/python3.10/dist-packages (from requests<3,>=2.18->streamlit) (3.4)\n",
            "Requirement already satisfied: urllib3<3,>=1.21.1 in /usr/local/lib/python3.10/dist-packages (from requests<3,>=2.18->streamlit) (2.0.4)\n",
            "Requirement already satisfied: certifi>=2017.4.17 in /usr/local/lib/python3.10/dist-packages (from requests<3,>=2.18->streamlit) (2023.7.22)\n",
            "Requirement already satisfied: markdown-it-py>=2.2.0 in /usr/local/lib/python3.10/dist-packages (from rich<14,>=10.14.0->streamlit) (3.0.0)\n",
            "Requirement already satisfied: pygments<3.0.0,>=2.13.0 in /usr/local/lib/python3.10/dist-packages (from rich<14,>=10.14.0->streamlit) (2.16.1)\n",
            "Collecting smmap<6,>=3.0.1 (from gitdb<5,>=4.0.1->gitpython!=3.1.19,<4,>=3.0.7->streamlit)\n",
            "  Downloading smmap-5.0.1-py3-none-any.whl (24 kB)\n",
            "Requirement already satisfied: MarkupSafe>=2.0 in /usr/local/lib/python3.10/dist-packages (from jinja2->altair<6,>=4.0->streamlit) (2.1.3)\n",
            "Requirement already satisfied: attrs>=22.2.0 in /usr/local/lib/python3.10/dist-packages (from jsonschema>=3.0->altair<6,>=4.0->streamlit) (23.1.0)\n",
            "Requirement already satisfied: jsonschema-specifications>=2023.03.6 in /usr/local/lib/python3.10/dist-packages (from jsonschema>=3.0->altair<6,>=4.0->streamlit) (2023.7.1)\n",
            "Requirement already satisfied: referencing>=0.28.4 in /usr/local/lib/python3.10/dist-packages (from jsonschema>=3.0->altair<6,>=4.0->streamlit) (0.30.2)\n",
            "Requirement already satisfied: rpds-py>=0.7.1 in /usr/local/lib/python3.10/dist-packages (from jsonschema>=3.0->altair<6,>=4.0->streamlit) (0.10.2)\n",
            "Requirement already satisfied: mdurl~=0.1 in /usr/local/lib/python3.10/dist-packages (from markdown-it-py>=2.2.0->rich<14,>=10.14.0->streamlit) (0.1.2)\n",
            "Installing collected packages: watchdog, validators, smmap, pydeck, gitdb, gitpython, streamlit\n",
            "Successfully installed gitdb-4.0.10 gitpython-3.1.37 pydeck-0.8.1b0 smmap-5.0.1 streamlit-1.27.0 validators-0.22.0 watchdog-3.0.0\n",
            "Collecting mysql.connector\n",
            "  Downloading mysql-connector-2.2.9.tar.gz (11.9 MB)\n",
            "\u001b[2K     \u001b[90m━━━━━━━━━━━━━━━━━━━━━━━━━━━━━━━━━━━━━━━━\u001b[0m \u001b[32m11.9/11.9 MB\u001b[0m \u001b[31m86.2 MB/s\u001b[0m eta \u001b[36m0:00:00\u001b[0m\n",
            "\u001b[?25h  Preparing metadata (setup.py) ... \u001b[?25l\u001b[?25hdone\n",
            "Building wheels for collected packages: mysql.connector\n",
            "  Building wheel for mysql.connector (setup.py) ... \u001b[?25l\u001b[?25hdone\n",
            "  Created wheel for mysql.connector: filename=mysql_connector-2.2.9-cp310-cp310-linux_x86_64.whl size=247952 sha256=ed3768af6a6d38fa3c79af666e74ecd518c11582eabfa10eb1e0ad274dd25cd2\n",
            "  Stored in directory: /root/.cache/pip/wheels/76/48/9b/da67ff1a18fe8e9d428f9b1a177716d4a7d363d2bbe83bf6cf\n",
            "Successfully built mysql.connector\n",
            "Installing collected packages: mysql.connector\n",
            "Successfully installed mysql.connector-2.2.9\n",
            "Requirement already satisfied: plotly in /usr/local/lib/python3.10/dist-packages (5.15.0)\n",
            "Requirement already satisfied: tenacity>=6.2.0 in /usr/local/lib/python3.10/dist-packages (from plotly) (8.2.3)\n",
            "Requirement already satisfied: packaging in /usr/local/lib/python3.10/dist-packages (from plotly) (23.1)\n",
            "\u001b[31mERROR: Could not find a version that satisfies the requirement os (from versions: none)\u001b[0m\u001b[31m\n",
            "\u001b[0m\u001b[31mERROR: No matching distribution found for os\u001b[0m\u001b[31m\n",
            "\u001b[0mRequirement already satisfied: gitpython in /usr/local/lib/python3.10/dist-packages (3.1.37)\n",
            "Requirement already satisfied: gitdb<5,>=4.0.1 in /usr/local/lib/python3.10/dist-packages (from gitpython) (4.0.10)\n",
            "Requirement already satisfied: smmap<6,>=3.0.1 in /usr/local/lib/python3.10/dist-packages (from gitdb<5,>=4.0.1->gitpython) (5.0.1)\n"
          ]
        }
      ]
    },
    {
      "cell_type": "code",
      "source": [
        "import pandas as pd\n",
        "import mysql.connector as sql\n",
        "import streamlit as st\n",
        "import plotly.express as px\n",
        "import os\n",
        "import json\n",
        "from PIL import Image"
      ],
      "metadata": {
        "id": "vi3ud5wJjNiF"
      },
      "execution_count": null,
      "outputs": []
    },
    {
      "cell_type": "code",
      "source": [
        "#cloning data from github\n",
        "os.environ[\"GIT_PYTHON_REFRESH\"] = \"quiet\"\n",
        "import git\n",
        "from git.repo.base import Repo\n",
        "Repo.clone_from(\"https://github.com/PhonePe/pulse\", \"D:\\Guvi\\Phonepe Pulse Data Visualization and Exploration\")"
      ],
      "metadata": {
        "colab": {
          "base_uri": "https://localhost:8080/"
        },
        "id": "SlmaZCtsjZ0x",
        "outputId": "c0879525-b53e-4eb3-f818-b4437af8e093"
      },
      "execution_count": null,
      "outputs": [
        {
          "output_type": "execute_result",
          "data": {
            "text/plain": [
              "<git.repo.base.Repo '/content/D:\\\\Guvi\\\\Phonepe Pulse Data Visualization and Exploration/.git'>"
            ]
          },
          "metadata": {},
          "execution_count": 5
        }
      ]
    },
    {
      "cell_type": "code",
      "source": [
        "#Data Transformation"
      ],
      "metadata": {
        "id": "o_rXPY9gGSd9"
      },
      "execution_count": null,
      "outputs": []
    },
    {
      "cell_type": "code",
      "source": [
        "# Dataframe of aggregated Transactions\n",
        "path1 = \"D:/Guvi/Phonepe_Pulse_Data_Visualization_and_Exploration/pulse/data/aggregated/transaction/country/india/state\"\n",
        "agg_trans_list = os.listdir(path1)\n",
        "\n",
        "columns1 = {'State': [], 'Year': [], 'Quarter': [], 'Transaction_type': [], 'Transaction_count': [],\n",
        "            'Transaction_amount': []}\n",
        "for state in agg_trans_list:\n",
        "    cur_state = path1 + state + \"/\"\n",
        "    agg_year_list = os.listdir(cur_state)\n",
        "\n",
        "    for year in agg_year_list:\n",
        "        cur_year = cur_state + year + \"/\"\n",
        "        agg_file_list = os.listdir(cur_year)\n",
        "\n",
        "        for file in agg_file_list:\n",
        "            cur_file = cur_year + file\n",
        "            data = open(cur_file, 'r')\n",
        "            A = json.load(data)\n",
        "\n",
        "            for i in A['data']['transactionData']:\n",
        "                name = i['name']\n",
        "                count = i['paymentInstruments'][0]['count']\n",
        "                amount = i['paymentInstruments'][0]['amount']\n",
        "                columns1['Transaction_type'].append(name)\n",
        "                columns1['Transaction_count'].append(count)\n",
        "                columns1['Transaction_amount'].append(amount)\n",
        "                columns1['State'].append(state)\n",
        "                columns1['Year'].append(year)\n",
        "                columns1['Quarter'].append(int(file.strip('.json')))\n",
        "\n",
        "df_agg_trans = pd.DataFrame(columns1)"
      ],
      "metadata": {
        "id": "7-wZeaGSkRCR"
      },
      "execution_count": null,
      "outputs": []
    },
    {
      "cell_type": "code",
      "source": [
        "# data frame of aggregated user\n",
        "path2 = \"D:/Guvi/Phonepe_Pulse_Data_Visualization_and_Exploration/pulse/data/aggregated/user/country/india/state/\"\n",
        "\n",
        "agg_user_list = os.listdir(path2)\n",
        "\n",
        "columns2 = {'State': [], 'Year': [], 'Quarter': [], 'Brands': [], 'Count': [],\n",
        "            'Percentage': []}\n",
        "for state in agg_user_list:\n",
        "    cur_state = path2 + state + \"/\"\n",
        "    agg_year_list = os.listdir(cur_state)\n",
        "\n",
        "    for year in agg_year_list:\n",
        "        cur_year = cur_state + year + \"/\"\n",
        "        agg_file_list = os.listdir(cur_year)\n",
        "\n",
        "        for file in agg_file_list:\n",
        "            cur_file = cur_year + file\n",
        "            data = open(cur_file, 'r')\n",
        "            B = json.load(data)\n",
        "            try:\n",
        "                for i in B[\"data\"][\"usersByDevice\"]:\n",
        "                    brand_name = i[\"brand\"]\n",
        "                    counts = i[\"count\"]\n",
        "                    percents = i[\"percentage\"]\n",
        "                    columns2[\"Brands\"].append(brand_name)\n",
        "                    columns2[\"Count\"].append(counts)\n",
        "                    columns2[\"Percentage\"].append(percents)\n",
        "                    columns2[\"State\"].append(state)\n",
        "                    columns2[\"Year\"].append(year)\n",
        "                    columns2[\"Quarter\"].append(int(file.strip('.json')))\n",
        "            except:\n",
        "                pass\n",
        "df_agg_user = pd.DataFrame(columns2)\n"
      ],
      "metadata": {
        "id": "-VjCrm7DsOex"
      },
      "execution_count": null,
      "outputs": []
    },
    {
      "cell_type": "code",
      "source": [
        "# Data frame of map transactions\n",
        "path3 = \"D:/Guvi/Phonepe_Pulse_Data_Visualization_and_Exploration/pulse/data/map/transaction/hover/country/india/state/\"\n",
        "\n",
        "map_trans_list = os.listdir(path3)\n",
        "\n",
        "columns3 = {'State': [], 'Year': [], 'Quarter': [], 'District': [], 'Count': [],\n",
        "            'Amount': []}\n",
        "\n",
        "for state in map_trans_list:\n",
        "    cur_state = path3 + state + \"/\"\n",
        "    map_year_list = os.listdir(cur_state)\n",
        "\n",
        "    for year in map_year_list:\n",
        "        cur_year = cur_state + year + \"/\"\n",
        "        map_file_list = os.listdir(cur_year)\n",
        "\n",
        "        for file in map_file_list:\n",
        "            cur_file = cur_year + file\n",
        "            data = open(cur_file, 'r')\n",
        "            C = json.load(data)\n",
        "\n",
        "            for i in C[\"data\"][\"hoverDataList\"]:\n",
        "                district = i[\"name\"]\n",
        "                count = i[\"metric\"][0][\"count\"]\n",
        "                amount = i[\"metric\"][0][\"amount\"]\n",
        "                columns3[\"District\"].append(district)\n",
        "                columns3[\"Count\"].append(count)\n",
        "                columns3[\"Amount\"].append(amount)\n",
        "                columns3['State'].append(state)\n",
        "                columns3['Year'].append(year)\n",
        "                columns3['Quarter'].append(int(file.strip('.json')))\n",
        "\n",
        "df_map_trans = pd.DataFrame(columns3)"
      ],
      "metadata": {
        "id": "AAyL_U3W2tUR"
      },
      "execution_count": null,
      "outputs": []
    },
    {
      "cell_type": "code",
      "source": [
        "# Data frame of map user\n",
        "path4 = \"D:/Guvi/Phonepe_Pulse_Data_Visualization_and_Exploration/pulse/data/map/user/hover/country/india/state/\"\n",
        "\n",
        "map_user_list = os.listdir(path4)\n",
        "\n",
        "columns4 = {\"State\": [], \"Year\": [], \"Quarter\": [], \"District\": [],\n",
        "            \"RegisteredUser\": [], \"AppOpens\": []}\n",
        "\n",
        "for state in map_user_list:\n",
        "    cur_state = path4 + state + \"/\"\n",
        "    map_year_list = os.listdir(cur_state)\n",
        "\n",
        "    for year in map_year_list:\n",
        "        cur_year = cur_state + year + \"/\"\n",
        "        map_file_list = os.listdir(cur_year)\n",
        "\n",
        "        for file in map_file_list:\n",
        "            cur_file = cur_year + file\n",
        "            data = open(cur_file, 'r')\n",
        "            D = json.load(data)\n",
        "\n",
        "            for i in D[\"data\"][\"hoverData\"].items():\n",
        "                district = i[0]\n",
        "                registereduser = i[1][\"registeredUsers\"]\n",
        "                appOpens = i[1]['appOpens']\n",
        "                columns4[\"District\"].append(district)\n",
        "                columns4[\"RegisteredUser\"].append(registereduser)\n",
        "                columns4[\"AppOpens\"].append(appOpens)\n",
        "                columns4['State'].append(state)\n",
        "                columns4['Year'].append(year)\n",
        "                columns4['Quarter'].append(int(file.strip('.json')))\n",
        "\n",
        "df_map_user = pd.DataFrame(columns4)"
      ],
      "metadata": {
        "id": "3UPYLb0tGa9-"
      },
      "execution_count": null,
      "outputs": []
    },
    {
      "cell_type": "code",
      "source": [
        "# Data frame of top transactions\n",
        "path5 = \"D:/Guvi/Phonepe_Pulse_Data_Visualization_and_Exploration/pulse/data/top/transaction/country/india/state/\"\n",
        "\n",
        "top_trans_list = os.listdir(path5)\n",
        "columns5 = {'State': [], 'Year': [], 'Quarter': [], 'Pincode': [], 'Transaction_count': [],\n",
        "            'Transaction_amount': []}\n",
        "\n",
        "for state in top_trans_list:\n",
        "    cur_state = path5 + state + \"/\"\n",
        "    top_year_list = os.listdir(cur_state)\n",
        "\n",
        "    for year in top_year_list:\n",
        "        cur_year = cur_state + year + \"/\"\n",
        "        top_file_list = os.listdir(cur_year)\n",
        "\n",
        "        for file in top_file_list:\n",
        "            cur_file = cur_year + file\n",
        "            data = open(cur_file, 'r')\n",
        "            E = json.load(data)\n",
        "\n",
        "            for i in E['data']['pincodes']:\n",
        "                name = i['entityName']\n",
        "                count = i['metric']['count']\n",
        "                amount = i['metric']['amount']\n",
        "                columns5['Pincode'].append(name)\n",
        "                columns5['Transaction_count'].append(count)\n",
        "                columns5['Transaction_amount'].append(amount)\n",
        "                columns5['State'].append(state)\n",
        "                columns5['Year'].append(year)\n",
        "                columns5['Quarter'].append(int(file.strip('.json')))\n",
        "df_top_trans = pd.DataFrame(columns5)"
      ],
      "metadata": {
        "id": "6TfCn70UGa6c"
      },
      "execution_count": null,
      "outputs": []
    },
    {
      "cell_type": "code",
      "source": [
        "# Data frame of top users\n",
        "path6 = \"D:/Guvi/Phonepe_Pulse_Data_Visualization_and_Exploration/pulse/data/top/user/country/india/state/\"\n",
        "top_user_list = os.listdir(path6)\n",
        "columns6 = {'State': [], 'Year': [], 'Quarter': [], 'Pincode': [],\n",
        "            'RegisteredUsers': []}\n",
        "\n",
        "for state in top_user_list:\n",
        "    cur_state = path6 + state + \"/\"\n",
        "    top_year_list = os.listdir(cur_state)\n",
        "\n",
        "    for year in top_year_list:\n",
        "        cur_year = cur_state + year + \"/\"\n",
        "        top_file_list = os.listdir(cur_year)\n",
        "\n",
        "        for file in top_file_list:\n",
        "            cur_file = cur_year + file\n",
        "            data = open(cur_file, 'r')\n",
        "            F = json.load(data)\n",
        "\n",
        "            for i in F['data']['pincodes']:\n",
        "                name = i['name']\n",
        "                registeredUsers = i['registeredUsers']\n",
        "                columns6['Pincode'].append(name)\n",
        "                columns6['RegisteredUsers'].append(registeredUsers)\n",
        "                columns6['State'].append(state)\n",
        "                columns6['Year'].append(year)\n",
        "                columns6['Quarter'].append(int(file.strip('.json')))\n",
        "df_top_user = pd.DataFrame(columns6)"
      ],
      "metadata": {
        "id": "BU-domVCGa12"
      },
      "execution_count": null,
      "outputs": []
    },
    {
      "cell_type": "code",
      "source": [
        "# Coverting Data frames to csv files\n",
        "df_agg_trans.to_csv('agg_trans.csv',index=False)\n",
        "df_agg_user.to_csv('agg_user.csv',index=False)\n",
        "df_map_trans.to_csv('map_trans.csv',index=False)\n",
        "df_map_user.to_csv('map_user.csv',index=False)\n",
        "df_top_trans.to_csv('top_trans.csv',index=False)\n",
        "df_top_user.to_csv('top_user.csv',index=False)"
      ],
      "metadata": {
        "id": "T7Kpb-IUGay9"
      },
      "execution_count": null,
      "outputs": []
    },
    {
      "cell_type": "code",
      "source": [
        "!pip install pymysql"
      ],
      "metadata": {
        "id": "-BjAHChPGawV"
      },
      "execution_count": null,
      "outputs": []
    },
    {
      "cell_type": "code",
      "source": [
        "# Creating connection with MySQL\n",
        "# Connecting with SQL\n",
        "mydb = sql.connect(host=\"localhost\",\n",
        "                   user=\"postgresql\",\n",
        "                   password=\"Poojas1#\",\n",
        "                   )\n",
        "mycursor = mydb.cursor(buffered=True)"
      ],
      "metadata": {
        "id": "nx1y7dx7Gaq2"
      },
      "execution_count": null,
      "outputs": []
    },
    {
      "cell_type": "code",
      "source": [
        "# Creating new database and tables\n",
        "mycursor.execute(\"CREATE DATABASE Phonepe_pulse\")"
      ],
      "metadata": {
        "id": "1fibNz7wGanM"
      },
      "execution_count": null,
      "outputs": []
    },
    {
      "cell_type": "code",
      "source": [
        "mycursor.execute(\"USE Phonepe_pulse\")"
      ],
      "metadata": {
        "id": "tcBXJerfGakj"
      },
      "execution_count": null,
      "outputs": []
    },
    {
      "cell_type": "code",
      "source": [
        "# Creating agg_trans table\n",
        "mycursor.execute(\"create table agg_trans (State varchar(100), Year int, Quarter int, Transaction_type varchar(100), Transaction_count int, Transaction_amount double)\")\n",
        "\n",
        "for i,row in df_agg_trans.iterrows():\n",
        "    #here %S means string values\n",
        "    sql = \"INSERT INTO agg_trans VALUES (%s,%s,%s,%s,%s,%s)\"\n",
        "    mycursor.execute(sql, tuple(row))\n",
        "    # the connection is not auto committed by default, so we must commit to save our changes\n",
        "    mydb.commit()"
      ],
      "metadata": {
        "id": "oMT9vs67Gah4"
      },
      "execution_count": null,
      "outputs": []
    },
    {
      "cell_type": "code",
      "source": [
        "# Creating agg_user table\n",
        "mycursor.execute(\"create table agg_user (State varchar(100), Year int, Quarter int, Brands varchar(100), Count int, Percentage double)\")\n",
        "\n",
        "for i,row in df_agg_user.iterrows():\n",
        "    sql = \"INSERT INTO agg_user VALUES (%s,%s,%s,%s,%s,%s)\"\n",
        "    mycursor.execute(sql, tuple(row))\n",
        "    mydb.commit()"
      ],
      "metadata": {
        "id": "s4_66lgXGafr"
      },
      "execution_count": null,
      "outputs": []
    },
    {
      "cell_type": "code",
      "source": [
        "# Creating map_trans table\n",
        "mycursor.execute(\"create table map_trans (State varchar(100), Year int, Quarter int, District varchar(100), Count int, Amount double)\")\n",
        "\n",
        "for i,row in df_map_trans.iterrows():\n",
        "    sql = \"INSERT INTO map_trans VALUES (%s,%s,%s,%s,%s,%s)\"\n",
        "    mycursor.execute(sql, tuple(row))\n",
        "    mydb.commit()"
      ],
      "metadata": {
        "id": "br0PZn54HWBy"
      },
      "execution_count": null,
      "outputs": []
    },
    {
      "cell_type": "code",
      "source": [
        "# Creating map_user table\n",
        "mycursor.execute(\"create table map_user (State varchar(100), Year int, Quarter int, District varchar(100), Registered_user int, App_opens int)\")\n",
        "\n",
        "for i,row in df_map_user.iterrows():\n",
        "    sql = \"INSERT INTO map_user VALUES (%s,%s,%s,%s,%s,%s)\"\n",
        "    mycursor.execute(sql, tuple(row))\n",
        "    mydb.commit()"
      ],
      "metadata": {
        "id": "2pEUdRJcHWG9"
      },
      "execution_count": null,
      "outputs": []
    },
    {
      "cell_type": "code",
      "source": [
        "# Creating top_trans table\n",
        "mycursor.execute(\"create table top_trans (State varchar(100), Year int, Quarter int, Pincode int, Transaction_count int, Transaction_amount double)\")\n",
        "\n",
        "for i,row in df_top_trans.iterrows():\n",
        "    sql = \"INSERT INTO top_trans VALUES (%s,%s,%s,%s,%s,%s)\"\n",
        "    mycursor.execute(sql, tuple(row))\n",
        "    mydb.commit()"
      ],
      "metadata": {
        "id": "aAaTBIGPHWMY"
      },
      "execution_count": null,
      "outputs": []
    },
    {
      "cell_type": "code",
      "source": [
        "# Creating top_user table\n",
        "mycursor.execute(\"create table top_user (State varchar(100), Year int, Quarter int, Pincode int, Registered_users int)\")\n",
        "\n",
        "for i,row in df_top_user.iterrows():\n",
        "    sql = \"INSERT INTO top_user VALUES (%s,%s,%s,%s,%s)\"\n",
        "    mycursor.execute(sql, tuple(row))\n",
        "    mydb.commit()"
      ],
      "metadata": {
        "id": "dJSCAH8hHW_g"
      },
      "execution_count": null,
      "outputs": []
    },
    {
      "cell_type": "code",
      "source": [
        "# List of tables\n",
        "mycursor.execute(\"show tables\")\n",
        "mycursor.fetchall()"
      ],
      "metadata": {
        "id": "fGpoZWzEHeZh"
      },
      "execution_count": null,
      "outputs": []
    }
  ]
}